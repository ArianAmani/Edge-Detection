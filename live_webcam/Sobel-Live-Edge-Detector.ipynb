{
 "cells": [
  {
   "cell_type": "code",
   "execution_count": 1,
   "id": "binding-theory",
   "metadata": {},
   "outputs": [],
   "source": [
    "import cv2 as cv\n",
    "import numpy as np\n",
    "from scipy import signal\n",
    "from scipy.ndimage.filters import gaussian_filter\n",
    "from PIL import Image, ImageOps\n",
    "import matplotlib.pyplot as plt"
   ]
  },
  {
   "cell_type": "code",
   "execution_count": 2,
   "id": "mexican-shirt",
   "metadata": {},
   "outputs": [],
   "source": [
    "# Defining our Sobel Edge Detection functions\n",
    "def load_and_preprocess(img):\n",
    "    \n",
    "    # Load your image\n",
    "    pil_image = Image.fromarray(img)\n",
    "    \n",
    "    # Grayscale the picture\n",
    "    grayscaled = ImageOps.grayscale(pil_image)\n",
    "\n",
    "    # Gaussian Blur\n",
    "    grayscaled = gaussian_filter(grayscaled, sigma=6)\n",
    "    \n",
    "    return grayscaled\n",
    "    \n",
    "def sobel_edge_detection(image):\n",
    "    \n",
    "    # Create vertical and horizontal filters\n",
    "    filterX = np.array([[-1, 0, 1], [-2, 0, 2], [-1, 0, 1]])\n",
    "    filterY = np.array([[1, 2, 1], [0 ,0, 0], [-1, -2, -1]])\n",
    "    image = np.array(image)\n",
    "        \n",
    "    # Convolving with our two filters to create two images showing vertial edges and horizontal edges\n",
    "    xEdges = signal.convolve2d(image, filterX, boundary='symm')\n",
    "    yEdges = signal.convolve2d(image, filterY, boundary='symm')\n",
    "    \n",
    "    \n",
    "    # Combine the two images\n",
    "    comb = np.hypot(xEdges, yEdges)\n",
    "    comb = comb / comb.max() * 255\n",
    "    \n",
    "    return comb\n",
    "\n",
    "def sobel_complete(img_address):\n",
    "    return sobel_edge_detection(load_and_preprocess(img_address))"
   ]
  },
  {
   "cell_type": "code",
   "execution_count": 3,
   "id": "pretty-behavior",
   "metadata": {},
   "outputs": [],
   "source": [
    "# Defining our Canny Edge Detection function\n",
    "def canny_edge_detector_cv(image):\n",
    "    # Convert the image to grayscale\n",
    "    gray = cv.cvtColor(image, cv.COLOR_RGB2GRAY)\n",
    "    \n",
    "    # Blur the image to decrease the noise\n",
    "    blur = cv.GaussianBlur(gray, (3, 3), 0)\n",
    "    \n",
    "    # Edge Detection\n",
    "    edges = cv.Canny(image=gray, threshold1=20, threshold2=50)\n",
    "    \n",
    "    return edges"
   ]
  },
  {
   "cell_type": "code",
   "execution_count": 4,
   "id": "dying-fetish",
   "metadata": {},
   "outputs": [],
   "source": [
    "def start_detection(technique):\n",
    "    # Technique can be either sobel or canny\n",
    "    cap = cv.VideoCapture(0)\n",
    "    if not cap.isOpened():\n",
    "        print(\"Cannot open camera\")\n",
    "        exit()\n",
    "    while True:\n",
    "        # Capture frame-by-frame\n",
    "        ret, frame = cap.read()\n",
    "        \n",
    "        # If frame is read correctly ret is True\n",
    "        if not ret:\n",
    "            print(\"Can't receive frame (stream end?). Exiting ...\")\n",
    "            break\n",
    "            \n",
    "        # Our operations on the frame come here\n",
    "        if technique == 'sobel':\n",
    "            edge = sobel_complete(frame)\n",
    "        elif technique == 'canny':\n",
    "            edge = canny_edge_detector_cv(frame)\n",
    "\n",
    "        # Display the resulting frame\n",
    "        cv.imshow(f'{technique.capitalize()} Edge Detector', edge)\n",
    "        # cv.imshow('Webcam', frame) # To see the original frames too\n",
    "        \n",
    "        if cv.waitKey(1) == ord('q'):\n",
    "            break\n",
    "            \n",
    "    # When everything done, release the capture\n",
    "    cap.release()\n",
    "    cv.destroyAllWindows()"
   ]
  },
  {
   "cell_type": "code",
   "execution_count": 5,
   "id": "homeless-story",
   "metadata": {},
   "outputs": [],
   "source": [
    "start_detection('canny')"
   ]
  },
  {
   "cell_type": "code",
   "execution_count": null,
   "id": "earlier-shepherd",
   "metadata": {},
   "outputs": [],
   "source": []
  }
 ],
 "metadata": {
  "kernelspec": {
   "display_name": "Python 3",
   "language": "python",
   "name": "python3"
  },
  "language_info": {
   "codemirror_mode": {
    "name": "ipython",
    "version": 3
   },
   "file_extension": ".py",
   "mimetype": "text/x-python",
   "name": "python",
   "nbconvert_exporter": "python",
   "pygments_lexer": "ipython3",
   "version": "3.8.10"
  },
  "varInspector": {
   "cols": {
    "lenName": 16,
    "lenType": 16,
    "lenVar": 40
   },
   "kernels_config": {
    "python": {
     "delete_cmd_postfix": "",
     "delete_cmd_prefix": "del ",
     "library": "var_list.py",
     "varRefreshCmd": "print(var_dic_list())"
    },
    "r": {
     "delete_cmd_postfix": ") ",
     "delete_cmd_prefix": "rm(",
     "library": "var_list.r",
     "varRefreshCmd": "cat(var_dic_list()) "
    }
   },
   "types_to_exclude": [
    "module",
    "function",
    "builtin_function_or_method",
    "instance",
    "_Feature"
   ],
   "window_display": false
  }
 },
 "nbformat": 4,
 "nbformat_minor": 5
}
